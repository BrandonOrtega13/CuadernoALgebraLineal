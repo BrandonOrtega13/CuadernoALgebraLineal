{
  "nbformat": 4,
  "nbformat_minor": 0,
  "metadata": {
    "colab": {
      "provenance": [],
      "authorship_tag": "ABX9TyMvZ4FeuUk5BK2YI0k5GqFo",
      "include_colab_link": true
    },
    "kernelspec": {
      "name": "python3",
      "display_name": "Python 3"
    },
    "language_info": {
      "name": "python"
    }
  },
  "cells": [
    {
      "cell_type": "markdown",
      "metadata": {
        "id": "view-in-github",
        "colab_type": "text"
      },
      "source": [
        "<a href=\"https://colab.research.google.com/github/BrandonOrtega13/CuadernoALgebraLineal/blob/main/CuadernoAlgLnl_BrandomOrtega.ipynb\" target=\"_parent\"><img src=\"https://colab.research.google.com/assets/colab-badge.svg\" alt=\"Open In Colab\"/></a>"
      ]
    },
    {
      "cell_type": "markdown",
      "source": [
        "#**MATRICES**"
      ],
      "metadata": {
        "id": "dnRzU1KwgFu8"
      }
    },
    {
      "cell_type": "markdown",
      "source": [
        "#**Que son las matrices**\n",
        "\n",
        "Una matriz es una estructura matemática compuesta por filas y columnas de elementos. Dependiendo de sus características, las matrices pueden clasificarse en diferentes tipos. En esta explicación, exploraremos algunos de los tipos más comunes.\n",
        "\n",
        "##**Matriz por su tamaño**\n",
        "\n",
        "###**Matriz fila**\n",
        "\n",
        "Una matriz fila es aquella que tiene una sola fila y varios elementos en esa fila. Se denota de la siguiente manera:\n",
        "\n",
        "\\$[A = [a_1, a_2, a_3, \\ldots, a_n]\\$]\n",
        "\n",
        "donde $a_1, a_2, a_3, \\ldots, a_n$ son los elementos de la matriz.\n",
        "\n",
        "###**Matriz columna**\n",
        "\n",
        "Una matriz columna es aquella que tiene una sola columna y varios elementos en esa columna. Se denota de la siguiente manera:\n",
        "\n",
        "$[\n",
        "B = \\begin{bmatrix}\n",
        "b_1 \\\\\n",
        "b_2 \\\\\n",
        "b_3 \\\\\n",
        "\\vdots \\\\\n",
        "b_m\n",
        "\\end{bmatrix}\n",
        "]$\n",
        "\n",
        "donde $b_1, b_2, b_3, \\ldots, b_m$ son los elementos de la matriz.\n",
        "\n",
        "###**Matriz cuadrada**\n",
        "\n",
        "Una matriz cuadrada es aquella que tiene el mismo número de filas que de columnas. Se denota de la siguiente manera:\n",
        "\n",
        "$[\n",
        "C = \\begin{bmatrix}\n",
        "c_{11} & c_{12} & c_{13} \\\\\n",
        "c_{21} & c_{22} & c_{23} \\\\\n",
        "c_{31} & c_{32} & c_{33} \\\\\n",
        "\\end{bmatrix}\n",
        "]$\n",
        "\n",
        "donde $c_{ij}$ representa los elementos de la matriz.\n",
        "\n",
        "#**Matriz por sus elementos**\n",
        "\n",
        "###**Matriz nula**\n",
        "\n",
        "Una matriz nula es aquella en la que todos sus elementos son cero. Se denota como $O$.\n",
        "\n",
        "###**Matriz diagonal**\n",
        "\n",
        "Una matriz diagonal es aquella en la que todos sus elementos fuera de la diagonal principal son cero. Los elementos de la diagonal principal pueden ser cualquier valor. Se denota de la siguiente manera:\n",
        "\n",
        "$[\n",
        "D = \\begin{bmatrix}\n",
        "d_{11} & 0 & 0 \\\\\n",
        "0 & d_{22} & 0 \\\\\n",
        "0 & 0 & d_{33} \\\\\n",
        "\\end{bmatrix}\n",
        "]$\n",
        "\n",
        "###**Matriz triangular**\n",
        "\n",
        "Una matriz triangular es aquella en la que todos los elementos por encima o por debajo de la diagonal principal son cero. Dependiendo de la posición de los ceros, se distinguen entre matriz triangular superior y matriz triangular inferior.\n",
        "\n",
        "$[\n",
        "E = \\begin{bmatrix}\n",
        "e_{11} & e_{12} & e_{13} \\\\\n",
        "0 & e_{22} & e_{23} \\\\\n",
        "0 & 0 & e_{33} \\\\\n",
        "\\end{bmatrix}\n",
        "]$\n",
        "\n",
        "$[\n",
        "F = \\begin{bmatrix}\n",
        "f_{11} & 0 & 0 \\\\\n",
        "f_{21} & f_{22} & 0 \\\\\n",
        "f_{31} & f_{32} & f_{33} \\\\\n",
        "\\end{bmatrix}\n",
        "]$\n",
        "\n",
        "\\"
      ],
      "metadata": {
        "id": "sR2CZBitgI6c"
      }
    },
    {
      "cell_type": "markdown",
      "source": [
        "##**Suma de Matrices**\n",
        "\n",
        "La suma de dos matrices del mismo tamaño se realiza sumando elemento por elemento. Si tenemos dos matrices $A$ y $B$ del mismo tamaño, la suma se denota de la siguiente manera:\n",
        "\n",
        "\\[\n",
        "C = A + B\n",
        "\\]\n",
        "\n",
        "donde $C$ es la matriz resultante de la suma y $c_{ij} = a_{ij} + b_{ij}$ para cada elemento de la matriz.\n",
        "\n",
        "###**Multiplicación por Escalar**\n",
        "\n",
        "La multiplicación de una matriz por un escalar implica multiplicar cada elemento de la matriz por dicho escalar. Si tenemos una matriz $A$ y un escalar $k$, la multiplicación se denota de la siguiente manera:\n",
        "\n",
        "\\[\n",
        "B = k \\cdot A\n",
        "\\]\n",
        "\n",
        "donde $B$ es la matriz resultante y $b_{ij} = k \\cdot a_{ij}$ para cada elemento de la matriz."
      ],
      "metadata": {
        "id": "ieED6ZSkgVZ5"
      }
    },
    {
      "cell_type": "markdown",
      "source": [
        "##**Matrices inversas**\n",
        "En el álgebra lineal, una matriz inversa es una matriz que, cuando se multiplica por la matriz original, produce la matriz identidad. La existencia de una matriz inversa está asociada con propiedades especiales de la matriz original. A continuación, exploraremos las propiedades y el cálculo de las matrices inversas.\n",
        "\n",
        "####**Definicion**\n",
        "Dada una matriz cuadrada  A , si existe una matriz cuadrada  B  tal que se cumple la siguiente igualdad:\n",
        "\n",
        "[A⋅B=B⋅A=I] \n",
        "\n",
        "donde  I  es la matriz identidad del mismo tamaño que  A , entonces se dice que  A  es una matriz invertible o no singular, y  B  es la matriz inversa de  A , denotada como  A−1 ."
      ],
      "metadata": {
        "id": "lYY71ggDgieh"
      }
    },
    {
      "cell_type": "markdown",
      "source": [
        "#**SISTEMA DE ECUACIONES EN MATRICES**"
      ],
      "metadata": {
        "id": "KvDqcuduomvF"
      }
    },
    {
      "cell_type": "markdown",
      "source": [
        "**Definición:** Un sistema de ecuaciones es un conjunto de ecuaciones\n",
        "lineales que se plantean simultáneamente. Por lo general, se busca encontrar los valores de las\n",
        "variables que satisfacen todas las ecuaciones del sistema.\n",
        "\n",
        "####**Matriz de coecientes** \n",
        "En un sistema de ecuaciones, los coecientes de las variables se\n",
        "organizan en una matriz llamada matriz de coecientes. Cada la de la matriz representa una\n",
        "ecuación y cada columna corresponde a una variable.\n",
        "\n",
        "####**Vector de términos independiente** \n",
        "En un sistema de ecuaciones, los términos independientes\n",
        "de cada ecuación se organizan en un vector llamado vector de términos independientes. Este\n",
        "vector tiene la misma cantidad de las que la matriz de coecientes.\n",
        "\n",
        "####**Forma matricial del sistema de ecuaciones** \n",
        "Un sistema de ecuaciones puede expresarse en\n",
        "forma matricial utilizando la matriz de coecientes y el vector de términos independientes. Se\n",
        "puede escribir como AX = B, donde A es la matriz de coecientes, X es el vector de variables y B\n",
        "es el vector de términos independientes.\n",
        "\n",
        "####**Matriz ampliada** \n",
        "Para resolver un sistema de ecuaciones utilizando operaciones matriciales, se\n",
        "forma una matriz ampliada que combina la matriz de coecientes y el vector de términos\n",
        "independientes. Esta matriz tiene las mismas las que la matriz de coecientes y una columna\n",
        "adicional que representa al vector de términos independientes.\n",
        "\n",
        "####**Operaciones elementales de filas** \n",
        "Las operaciones elementales de filas se utilizan para\n",
        "simplicar un sistema de ecuaciones. Estas operaciones incluyen intercambiar las, multiplicar\n",
        "una la por una constante no nula y sumar o restar una la multiplicada por una constante a\n",
        "otra la.\n",
        "\n",
        "####**Método de eliminación de Gauss-Jordan** \n",
        "El método de eliminación de Gauss-Jordan es un\n",
        "procedimiento utilizado para resolver sistemas de ecuaciones en matrices. Consiste en aplicar\n",
        "operaciones elementales de las a la matriz ampliada hasta obtener una forma escalonada\n",
        "reducida, donde se despejan las variables una a una.\n",
        "\n",
        "####**Solución del sistema de ecuaciones** \n",
        "Un sistema de ecuaciones puede tener distintas\n",
        "soluciones. Puede ser compatible determinado si tiene una única solución, compatible\n",
        "indeterminado si tiene innitas soluciones o incompatible si no tiene solución.\n",
        "\n",
        "####**Matriz inversa** \n",
        "Si la matriz de coecientes A es cuadrada y su determinante es diferente de\n",
        "cero, entonces existe la matriz inversa de A. La matriz inversa se denota como A^-1 y tiene la\n",
        "propiedad de que A * A^-1 = I, donde I es la matriz identidad.\n",
        "####**Uso de matrices en aplicaciones**\n",
        "Los sistemas de ecuaciones en matrices tienen diversas\n",
        "aplicaciones en áreas como la física, la ingeniería, la economía y la computación. Por ejemplo,"
      ],
      "metadata": {
        "id": "tmL5pWwUotSh"
      }
    },
    {
      "cell_type": "markdown",
      "source": [
        "#**SISTEMA DE ECUACIONES DE PRIMER GRADO**"
      ],
      "metadata": {
        "id": "hMr0vM78mreK"
      }
    },
    {
      "cell_type": "markdown",
      "source": [
        "####**Denición de sistema de ecuaciones de primer grado** \n",
        "Un sistema de ecuaciones de primer\n",
        "grado es un conjunto de ecuaciones lineales en las que todas las incógnitas tienen exponente 1\n",
        "y no hay productos entre incógnitas. Por lo general, se representa de la siguiente manera:\n",
        "a₁x₁ + a₂x₂ + ... + aₙxₙ = b₁ a₁'x₁ + a₂'x₂ + ... + aₙ'xₙ = b₁' ... a₁''x₁ + a₂''x₂ + ... + aₙ''xₙ = b₁''\n",
        "Donde x₁, x₂, ..., xₙ son las incógnitas, a₁, a₂, ..., aₙ son los coecientes de las incógnitas, y b₁, b₁',\n",
        "..., b₁'' son los términos independientes.\n",
        "\n",
        "####**Solución de un sistema de ecuaciones de primer grado** \n",
        "La solución de un sistema de\n",
        "ecuaciones de primer grado es el conjunto de valores para las incógnitas que satisfacen todas\n",
        "las ecuaciones simultáneamente. Puede haber tres tipos de soluciones:\n",
        "\n",
        "\n",
        "**Solución única:** El sistema tiene una única solución, es decir, un conjunto de valores para las\n",
        "incógnitas que satisface todas las ecuaciones. En este caso, las ecuaciones son linealmente\n",
        "independientes y el sistema es consistente.\n",
        "\n",
        "**Infitas soluciones:** El sistema tiene innitas soluciones, es decir, hay un conjunto de valores\n",
        "para las incógnitas que satisface todas las ecuaciones. En este caso, las ecuaciones son\n",
        "linealmente dependientes y el sistema es consistente.\n",
        "\n",
        "**Sin solución:** El sistema no tiene solución, es decir, no hay ningún conjunto de valores para las\n",
        "incógnitas que satisfaga todas las ecuaciones. En este caso, las ecuaciones son\n",
        "inconsistentes.\n",
        "\n",
        "####**Métodos de resolución de sistemas de ecuaciones de primer grado** \n",
        "Existen varios métodos\n",
        "para resolver sistemas de ecuaciones de primer grado, entre ellos:\n",
        "Método de sustitución: Consiste en despejar una variable en una de las ecuaciones y\n",
        "sustituirla en las demás ecuaciones. Repitiendo este proceso se obtiene la solución del\n",
        "sistema.\n",
        "\n",
        "**Método de igualación:** Se despeja una variable en una ecuación y se iguala a una variable\n",
        "despejada en otra ecuación. Se resuelve la ecuación resultante y se sustituye el valor\n",
        "encontrado en una de las ecuaciones originales para obtener el valor de la otra variable.\n",
        "\n",
        "**Método de eliminación:** Consiste en sumar o restar las ecuaciones del sistema de\n",
        "manera que se elimine una de las variables. Luego, se resuelve el sistema de ecuaciones\n",
        "resultante con una variable menos.\n",
        "\n",
        "**Método de matrices:** Se representa el sistema de ecuaciones en forma matricial y se\n",
        "utiliza la inversa de una matriz o la eliminación de Gauss-Jordan para obtener la solución."
      ],
      "metadata": {
        "id": "dxfGIENBmw9i"
      }
    },
    {
      "cell_type": "code",
      "source": [
        "import numpy as np\n",
        "# Definimos los coeficientes del sistema de ecuaciones\n",
        "A = np.array([[2, 1], [1, -3]])\n",
        "B = np.array([9, -4])\n",
        "# Resolvemos el sistema de ecuaciones utilizando el método de matrices\n",
        "X = np.linalg.solve(A, B)\n",
        "# Imprimimos la solución\n",
        "print(\"La solución del sistema es:\")\n",
        "print(\"x =\", X[0])\n",
        "print(\"y =\", X[1])"
      ],
      "metadata": {
        "colab": {
          "base_uri": "https://localhost:8080/"
        },
        "id": "vu9zz3U3ogHo",
        "outputId": "95bcd1e6-8e98-4270-a263-5178b3cfe0ff"
      },
      "execution_count": 5,
      "outputs": [
        {
          "output_type": "stream",
          "name": "stdout",
          "text": [
            "La solución del sistema es:\n",
            "x = 3.2857142857142856\n",
            "y = 2.4285714285714284\n"
          ]
        }
      ]
    },
    {
      "cell_type": "markdown",
      "source": [
        "#**MÉTODO LU**"
      ],
      "metadata": {
        "id": "cMkd1DgM7nXE"
      }
    },
    {
      "cell_type": "markdown",
      "source": [
        "También conocido como factorización LU, es una técnica utilizada en el álgebra\n",
        "lineal para descomponer una matriz en el producto de dos matrices triangulares. Esta\n",
        "descomposición se utiliza para resolver sistemas de ecuaciones lineales, calcular\n",
        "determinantes y realizar otros cálculos relacionados con matrices.\n",
        "\n",
        "La factorización LU de una matriz A se puede expresar como A = LU, donde L es una matriz\n",
        "triangular inferior y U es una matriz triangular superior. La matriz L tiene unos en su diagonal\n",
        "principal y ceros por encima, mientras que la matriz U tiene ceros por debajo de su diagonal\n",
        "principal.\n",
        "\n",
        "El proceso de factorización LU se realiza generalmente utilizando el método de eliminación de\n",
        "Gauss. Consiste en aplicar operaciones elementales de la a la matriz original para obtener las\n",
        "matrices L y U. A continuación, se utilizan estas matrices para resolver sistemas de ecuaciones\n",
        "y realizar otros cálculos.\n",
        "\n",
        "El método LU tiene varias ventajas en comparación con otros métodos de resolución de\n",
        "sistemas de ecuaciones. Una vez que la matriz A se ha factorizado en L y U, es posible\n",
        "resolver sistemas de ecuaciones lineales simplemente sustituyendo y resolviendo los\n",
        "sistemas triangular inferior y superior. Esto es más eciente computacionalmente,\n",
        "especialmente cuando se tienen varios sistemas de ecuaciones con la misma matriz A.\n",
        "\n",
        "Además, la factorización LU se utiliza para calcular el determinante de una matriz. El\n",
        "determinante de A es el producto de los elementos diagonales de U. Esto facilita el\n",
        "cálculo del determinante en comparación con otros métodos.\n",
        "También es posible utilizar la factorización LU para calcular la matriz inversa de A. Una vez que\n",
        "se ha factorizado A en L y U, se pueden resolver sistemas de ecuaciones para encontrar las\n",
        "columnas de la matriz inversa.\n",
        "\n",
        "Sin embargo, es importante destacar que la factorización LU solo es posible si la matriz A es no\n",
        "singular, es decir, si tiene un determinante distinto de cero. Si la matriz es singular, la\n",
        "factorización LU no se puede realizar."
      ],
      "metadata": {
        "id": "MPKjvtA37s8w"
      }
    },
    {
      "cell_type": "code",
      "source": [
        "import numpy as np\n",
        "from scipy.linalg import lu\n",
        "\n",
        "def factorizacion_lu(matriz):\n",
        "    # Convertir la matriz a un arreglo NumPy y aplicar la factorización LU\n",
        "    P, L, U = lu(np.array(matriz, dtype=float))\n",
        "    return P, L, U\n",
        "\n",
        "# Ejemplo de uso\n",
        "matriz = [[1, 2, 3],\n",
        "          [4, 5, 6],\n",
        "          [7, 8, 9]]\n",
        "\n",
        "P, L, U = factorizacion_lu(matriz)\n",
        "\n",
        "print(\"Matriz P:\")\n",
        "print(P)\n",
        "print(\"Matriz L:\")\n",
        "print(L)\n",
        "print(\"Matriz U:\")\n",
        "print(U)\n"
      ],
      "metadata": {
        "colab": {
          "base_uri": "https://localhost:8080/"
        },
        "id": "6C3OCpHa8HrE",
        "outputId": "36f73737-7d6a-4a3d-9846-93a8e4a32f63"
      },
      "execution_count": 10,
      "outputs": [
        {
          "output_type": "stream",
          "name": "stdout",
          "text": [
            "Matriz P:\n",
            "[[0. 1. 0.]\n",
            " [0. 0. 1.]\n",
            " [1. 0. 0.]]\n",
            "Matriz L:\n",
            "[[1.         0.         0.        ]\n",
            " [0.14285714 1.         0.        ]\n",
            " [0.57142857 0.5        1.        ]]\n",
            "Matriz U:\n",
            "[[7.         8.         9.        ]\n",
            " [0.         0.85714286 1.71428571]\n",
            " [0.         0.         0.        ]]\n"
          ]
        }
      ]
    },
    {
      "cell_type": "markdown",
      "source": [
        "#**MÉTODO DE CRAMMER**"
      ],
      "metadata": {
        "id": "fK7T779X_1xV"
      }
    },
    {
      "cell_type": "markdown",
      "source": [
        "Es una técnica utilizada en álgebra lineal para resolver sistemas de\n",
        "ecuaciones lineales utilizando determinantes.\n",
        "Supongamos que tenemos un sistema de ecuaciones lineales de la forma:\n",
        "a11x1 + a12x2 + ... + a1nxn = b1 a21x1 + a22x2 + ... + a2nxn = b2 .................................................\n",
        "am1x1 + am2x2 + ... + amnxn = bm\n",
        "\n",
        "Donde aij son los coecientes de las variables xj, y bi son los términos constantes. El objetivo\n",
        "es encontrar los valores de las variables x1, x2, ..., xn que satisfacen todas las ecuaciones\n",
        "simultáneamente.\n",
        "\n",
        "*El método de Cramer* utiliza determinantes para resolver este sistema. En primer lugar,\n",
        "calculamos el determinante principal D del sistema, que se obtiene tomando los coecientes de\n",
        "las variables en la matriz de coecientes:\n",
        "\n",
        "D = | a11 a12 ... a1n | | a21 a22 ... a2n | | . . ... . | | am1 am2 ... amn |\n",
        "Si el determinante principal D es diferente de cero (D ≠ 0), entonces el sistema tiene una única\n",
        "solución y se puede utilizar el método de Cramer para encontrarla.\n",
        "\n",
        "Luego, calculamos los determinantes Dx1, Dx2, ..., Dxj, ..., Dxk, ..., Dxn, donde cada determinante\n",
        "Dxj se obtiene al reemplazar la columna j de la matriz de coecientes con el vector de términos\n",
        "constantes:\n",
        "Dxj = | a11 a12 ... bi ... a1n | | a21 a22 ... b2 ... a2n | | . . ... . ... | | am1 am2 ... bm ... amn |\n",
        "\n",
        "A continuación, podemos encontrar el valor de cada variable xj dividiendo el determinante\n",
        "correspondiente Dxj por el determinante principal D:\n",
        "xj = Dxj / D\n",
        "\n",
        "Por lo tanto, el sistema de ecuaciones tiene la siguiente solución única:\n",
        "x1 = Dx1 / D, x2 = Dx2 / D, ..., xn = Dxn / D\n",
        "\n",
        "Es importante tener en cuenta que el método de Cramer tiene ciertas limitaciones. En\n",
        "primer lugar, solo se puede aplicar a sistemas de ecuaciones lineales con el mismo\n",
        "número de ecuaciones y variables. \n",
        "Además, si el determinante principal D es igual a cero\n",
        "(D = 0), el método de Cramer no puede proporcionar una solución única y el sistema\n",
        "puede no tener solución o tener innitas soluciones."
      ],
      "metadata": {
        "id": "zG_LtbEn_7zE"
      }
    },
    {
      "cell_type": "code",
      "source": [
        "import numpy as np\n",
        "\n",
        "def cramer_solver(coefficients, constants):\n",
        "    # Verificar si el sistema tiene el mismo número de ecuaciones y variables\n",
        "    n = len(coefficients)\n",
        "    if len(coefficients) != n or len(coefficients[0]) != n or len(constants) != n:\n",
        "        raise ValueError(\"El sistema de ecuaciones no es válido.\")\n",
        "    \n",
        "    # Calcular el determinante principal D\n",
        "    D = np.linalg.det(coefficients)\n",
        "    \n",
        "    # Verificar si el determinante principal es diferente de cero\n",
        "    if D == 0:\n",
        "        raise ValueError(\"El sistema de ecuaciones no tiene solución única.\")\n",
        "    \n",
        "    # Calcular los valores de las variables utilizando el método de Cramer\n",
        "    solutions = []\n",
        "    for j in range(n):\n",
        "        # Crear una copia de la matriz de coeficientes y reemplazar la columna j con el vector de constantes\n",
        "        matrix_copy = coefficients.copy()\n",
        "        matrix_copy[:, j] = constants\n",
        "        \n",
        "        # Calcular el determinante Dxj\n",
        "        Dxj = np.linalg.det(matrix_copy)\n",
        "        \n",
        "        # Calcular el valor de la variable xj\n",
        "        xj = Dxj / D\n",
        "        solutions.append(xj)\n",
        "    \n",
        "    return solutions\n",
        "\n",
        "# Ejemplo de sistema de ecuaciones lineales\n",
        "coefficients = np.array([[2, 3, -1], [4, -2, 3], [1, 1, 1]])\n",
        "constants = np.array([7, 3, 4])\n",
        "\n",
        "# Resolver el sistema utilizando el método de Cramer\n",
        "solutions = cramer_solver(coefficients, constants)\n",
        "\n",
        "# Imprimir las soluciones\n",
        "print(\"Soluciones:\")\n",
        "for i, solution in enumerate(solutions):\n",
        "    print(f\"x{i+1} = {solution}\")\n"
      ],
      "metadata": {
        "colab": {
          "base_uri": "https://localhost:8080/"
        },
        "id": "-itIvXMFAgrS",
        "outputId": "2ad30b9b-a128-4d89-846a-f49bccf9763c"
      },
      "execution_count": 17,
      "outputs": [
        {
          "output_type": "stream",
          "name": "stdout",
          "text": [
            "Soluciones:\n",
            "x1 = 1.0\n",
            "x2 = 2.0000000000000013\n",
            "x3 = 1.0\n"
          ]
        }
      ]
    },
    {
      "cell_type": "markdown",
      "source": [],
      "metadata": {
        "id": "_s-LTQE9_5jK"
      }
    },
    {
      "cell_type": "markdown",
      "source": [
        "#**OPERACIONES ENTRE VECTORES**"
      ],
      "metadata": {
        "id": "3wYFXL-v9YNE"
      }
    },
    {
      "cell_type": "markdown",
      "source": [
        "####**Suma de vectores**\n",
        "La suma de vectores se dene componente a componente. Dados dos\n",
        "vectores del mismo tamaño, por ejemplo, u = (u1, u2, ..., un) y v = (v1, v2, ..., vn), la suma de\n",
        "estos vectores se obtiene sumando las componentes correspondientes: u + v = (u1 + v1, u2 +\n",
        "v2, ..., un + vn)\n",
        "La suma de vectores es conmutativa, es decir, u + v = v + u, y también es asociativa, es\n",
        "decir, (u + v) + w = u + (v + w), donde u, v y w son vectores del mismo tamaño.\n",
        "####**Multiplicación por un escalar** \n",
        "La multiplicación de un vector por un escalar se realiza\n",
        "multiplicando cada componente del vector por el escalar. Si tienes un vector u = (u1, u2, ..., un) y\n",
        "un escalar k, la multiplicación se realiza de la siguiente manera: k * u = (k * u1, k * u2, ..., k * un)\n",
        "\n",
        "**Algunas propiedades importantes de la multiplicación por un escalar son:**\n",
        "k * (u + v) = k * u + k * v, donde k es un escalar y u y v son vectores del mismo tamaño.\n",
        "(k1 * k2) * u = k1 * (k2 * u), donde k1 y k2 son escalares y u es un vector del mismo\n",
        "tamaño.\n",
        "\n"
      ],
      "metadata": {
        "id": "J8v5XPnD9e2D"
      }
    },
    {
      "cell_type": "code",
      "source": [
        "def sumar_vectores(u, v):\n",
        "    # Verificar si los vectores tienen la misma longitud\n",
        "    if len(u) != len(v):\n",
        "        raise ValueError(\"Los vectores deben tener la misma longitud.\")\n",
        "    # Inicializar el vector resultado con ceros\n",
        "    resultado = [0] * len(u)\n",
        "    # Sumar las componentes correspondientes de los vectores\n",
        "    for i in range(len(u)):\n",
        "        resultado[i] = u[i] + v[i]\n",
        "    return resultado\n",
        "\n",
        "# Ejemplo de suma de vectores\n",
        "u = [1, 2, 3]\n",
        "v = [4, 5, 6]\n",
        "suma = sumar_vectores(u, v)\n",
        "print(suma)  # Salida: [5, 7, 9]\n",
        "\n",
        "def multiplicar_por_escalar(u, k):\n",
        "    # Multiplicar cada componente del vector por el escalar\n",
        "    resultado = [k * componente for componente in u]\n",
        "    return resultado\n",
        "\n",
        "# Ejemplo de multiplicación por un escalar\n",
        "u = [1, 2, 3]\n",
        "k = 2\n",
        "multiplicacion = multiplicar_por_escalar(u, k)\n",
        "print(multiplicacion)  # Salida: [2, 4, 6]\n",
        "\n"
      ],
      "metadata": {
        "colab": {
          "base_uri": "https://localhost:8080/"
        },
        "id": "BhRBIRmw-N91",
        "outputId": "0915c6d1-e7b9-4d93-d176-666da6137196"
      },
      "execution_count": 14,
      "outputs": [
        {
          "output_type": "stream",
          "name": "stdout",
          "text": [
            "[5, 7, 9]\n",
            "[2, 4, 6]\n"
          ]
        }
      ]
    },
    {
      "cell_type": "markdown",
      "source": [
        "##**SUBESPACIOS VECTORIALES**"
      ],
      "metadata": {
        "id": "Yo1wmHCy9HgS"
      }
    },
    {
      "cell_type": "markdown",
      "source": [
        "**Definición:** Un subespacio vectorial V de un espacio vectorial W es un\n",
        "conjunto no vacío que cumple tres propiedades:\n",
        "El vector cero (0) siempre está en V.\n",
        "Para cualquier par de vectores u y v en V, la suma de u y v también está en V.\n",
        "Para cualquier vector u en V y cualquier escalar c, el producto escalar cu también está en\n",
        "V.\n",
        "####**Propiedades de los subespacios vectoriales**\n",
        "- Un subconjunto no vacío V de un espacio vectorial W es un subespacio vectorial si y solo\n",
        "si V es cerrado bajo la suma de vectores y la multiplicación por escalares.\n",
        "- La intersección de dos o más subespacios vectoriales también es un subespacio\n",
        "vectorial.\n",
        "- La suma de dos subespacios vectoriales V y W, denotada como V + W, es el conjunto de\n",
        "todas las sumas posibles de vectores de V y W.\n",
        "- El subespacio generado por un conjunto de vectores es el conjunto de todas las\n",
        "combinaciones lineales de esos vectores.\n",
        "\n",
        "####**Bases y dimensiones de subespacios**\n",
        "- Una base de un subespacio vectorial es un conjunto de vectores linealmente\n",
        "independientes que generan el subespacio.\n",
        "- La dimensión de un subespacio vectorial V, denotada como dim(V), es el número de\n",
        "vectores en cualquier base de V.\n",
        "- La dimensión de un subespacio es siempre un número no negativo.\n",
        "- El rango de una matriz es igual a la dimensión del espacio de columnas de la matriz, que\n",
        "es un subespacio vectorial de R^n.\n",
        "####**Ejemplos**\n",
        "- El espacio vectorial R^n, que consiste en todos los vectores n-dimensionales con\n",
        "componentes reales, es un subespacio vectorial de sí mismo.\n",
        "- El espacio de soluciones de un sistema homogéneo de ecuaciones lineales es un subespacio vectorial.\n",
        "El conjunto de todas las matrices simétricas n × n forma un subespacio vectorial de las\n",
        "matrices n × n.\n",
        "- El conjunto de todas las funciones continuas en un intervalo [a, b] forma un subespacio\n",
        "vectorial del espacio de todas las funciones denidas en [a, b]."
      ],
      "metadata": {
        "id": "zfV2cKIL9Koa"
      }
    },
    {
      "cell_type": "code",
      "source": [
        "import numpy as np\n",
        "# Creamos un subespacio vectorial en R^3\n",
        "# Definimos una base de dos vectores\n",
        "v1 = np.array([1, 2, 3])\n",
        "v2 = np.array([4, 5, 6])\n",
        "# Generamos el subespacio vectorial V\n",
        "V = np.array([v1, v2])\n",
        "# Comprobamos si el vector cero está en V\n",
        "zero_vector = np.zeros(3)\n",
        "is_zero_in_V = np.all(V == zero_vector)\n",
        "print(\"¿El vector cero está en V?\", is_zero_in_V)\n",
        "# Comprobamos si V es cerrado bajo la suma de vectores\n",
        "u = np.array([7, 8, 9])\n",
        "v = np.array([10, 11, 12])\n",
        "sum_uv = u + v\n",
        "is_sum_in_V = np.all(np.isin(sum_uv, V))\n",
        "print(\"¿V es cerrado bajo la suma de vectores?\", is_sum_in_V)\n",
        "# Comprobamos si V es cerrado bajo la multiplicación por escalares\n",
        "c = 3\n",
        "mult_cv = c * v1\n",
        "is_mult_in_V = np.all(np.isin(mult_cv, V))\n",
        "print(\"¿V es cerrado bajo la multiplicación por escalares?\", is_mult_in_V)"
      ],
      "metadata": {
        "colab": {
          "base_uri": "https://localhost:8080/"
        },
        "id": "_evXmvlK_l2H",
        "outputId": "3a610a16-151f-44f7-97da-e9cb5a7d934c"
      },
      "execution_count": 15,
      "outputs": [
        {
          "output_type": "stream",
          "name": "stdout",
          "text": [
            "¿El vector cero está en V? False\n",
            "¿V es cerrado bajo la suma de vectores? False\n",
            "¿V es cerrado bajo la multiplicación por escalares? False\n"
          ]
        }
      ]
    },
    {
      "cell_type": "markdown",
      "source": [
        "#**DETERMINANTES**"
      ],
      "metadata": {
        "id": "KTtjcO0Nhiz6"
      }
    },
    {
      "cell_type": "markdown",
      "source": [
        "**Definición de determinante:** El determinante es una función que asocia a cada matriz cuadrada\n",
        "un número. Se representa mediante barras verticales o con el símbolo det(). Para una matriz\n",
        "cuadrada A de tamaño nxn, el determinante se denota como |A| o det(A).\n",
        "\n",
        "**Determinantes de matrices 2x2:** El determinante de una matriz 2x2 se calcula mediante la\n",
        "siguiente fórmula: |A| = ad - bc Donde A es una matriz de la forma: | a b | | c d |\n",
        "\n",
        "**Determinantes de matrices 3x3:** El determinante de una matriz 3x3 se calcula mediante la regla\n",
        "de Sarrus o el método de Laplace. La regla de Sarrus es la siguiente: |A| = (a₁b₂c₃ + b₁c₂a₃ +\n",
        "c₁a₂b₃) - (c₁b₂a₃ + a₁c₂b₃ + b₁a₂c₃) Donde A es una matriz de la forma: | a₁ b₁ c₁ | | a₂ b₂ c₂ | | a₃ b₃ c₃\n",
        "|\n",
        "\n",
        "**Determinantes de matrices nxn:** Para calcular el determinante de una matriz nxn, se puede\n",
        "utilizar el método de Laplace, que consiste en expandir el determinante a lo largo de una la o\n",
        "columna, multiplicando cada elemento por su cofactor y sumándolos. El cofactor de un\n",
        "elemento aᵢⱼ se calcula multiplicando (-1)^(i+j) por el determinante de la submatriz obtenida al\n",
        "eliminar la la i y columna j.\n",
        "\n",
        "####**Propiedades de los determinantes:**\n",
        "- Si una matriz tiene una la o columna de ceros, su determinante es igual a cero.\n",
        "- Si se intercambian dos las o columnas de una matriz, el determinante cambia de signo.\n",
        "- Si se multiplica una la o columna por un escalar k, el determinante se multiplica por k.\n",
        "- Si una matriz tiene dos las o columnas iguales, su determinante es igual a cero.\n",
        "- El determinante de una matriz triangular (superior o inferior) es igual al producto de los\n",
        "elementos de la diagonal principal.\n",
        "####**Uso de los determinantes:**\n",
        "- **Resolver sistemas de ecuaciones lineales:** Un sistema de ecuaciones tiene una solución\n",
        "única si y solo si el determinante de la matriz de coecientes es distinto de cero.\n",
        "- **Calcular áreas y volúmenes:** El valor absoluto del determinante de una matriz formada\n",
        "por los vectores que denen los lados de un paralelogramo en el plano o un\n",
        "paralelepípedo en el espacio es igual al área o volumen correspondiente.\n",
        "- **Invertir matrices:** Una matriz cuadrada A es invertible si y solo si su determinante es\n",
        "distinto de cero. Además, la matriz inversa se puede obtener dividiendo la adjunta de A\n",
        "por el determinante de A.\n",
        "- **Determinar la independencia lineal:** Un conjunto de vectores"
      ],
      "metadata": {
        "id": "4QnvpO3rhmst"
      }
    },
    {
      "cell_type": "code",
      "source": [
        "import numpy as np\n",
        "# Definir la matriz\n",
        "A = np.array([[1, 2, 3],\n",
        "[4, 5, 6],\n",
        "[7, 8, 9]])\n",
        "# Calcular el determinante\n",
        "det_A = np.linalg.det(A)\n",
        "# Imprimir el resultado\n",
        "print(\"El determinante de la matriz A es:\", det_A)"
      ],
      "metadata": {
        "colab": {
          "base_uri": "https://localhost:8080/"
        },
        "id": "eFWisA_Emheb",
        "outputId": "cb820d06-72dc-4b2e-e7e2-d7a21fdd7bcf"
      },
      "execution_count": 4,
      "outputs": [
        {
          "output_type": "stream",
          "name": "stdout",
          "text": [
            "El determinante de la matriz A es: 0.0\n"
          ]
        }
      ]
    },
    {
      "cell_type": "markdown",
      "source": [
        "#**CÓNICAS**"
      ],
      "metadata": {
        "id": "KbCNrDkzgpPy"
      }
    },
    {
      "cell_type": "markdown",
      "source": [
        "#**Definición**\n",
        "\n",
        "Las cónicas son una familia de curvas geométricas que se obtienen al intersectar un plano con un cono de doble hoja. Estas curvas incluyen el círculo, la elipse, la parábola y la hipérbola, cada una con características y propiedades únicas.\n",
        "\n",
        "Las cónicas tienen muchas aplicaciones en matemáticas, física y otras áreas científicas. Son fundamentales en la descripción de órbitas planetarias, trayectorias de proyectiles, espejos parabólicos, antenas parabólicas, diseño de lentes y mucho más. Su estudio y comprensión son cruciales para comprender y analizar una variedad de fenómenos y estructuras en nuestro entorno físico y matemático.\n",
        "\n",
        "\n",
        "###**¿Cómo se obtienen las secciones cónicas?**\n",
        "\n",
        "La superficie cónica se obtiene haciendo rotar una recta denominada generatriz alrededor de un punto fijo llamado vértice mantiendo otro punto constantemente sobre una circunferencia llamada directiz situaa en un plano perpendicular al eje y condicionada a que su centro esté sobre el eje.\n",
        "\n",
        "\n",
        "**Tipos de cónicas**\n",
        "\n",
        "El círculo es una cónica especial que se forma cuando el plano de corte es perpendicular al eje del cono. Es una curva cerrada en la que todos los puntos están equidistantes del centro. Su ecuación general es (x - h)² + (y - k)² = r², donde (h, k) representa el centro del círculo y r es su radio.\n",
        "\n",
        "La elipse se produce cuando el plano de corte es oblicuo y corta ambas hojas del cono. Es una curva cerrada y simétrica con dos ejes: el eje mayor (2a) y el eje menor (2b). Su ecuación general es ((x - h)²/a²) + ((y - k)²/b²) = 1, donde (h, k) es el centro de la elipse y a y b son las longitudes de los semiejes.\n",
        "\n",
        "La parábola se forma cuando el plano de corte es paralelo a una de las hojas del cono. Es una curva abierta y simétrica con un eje de simetría. Su ecuación general es y = a(x - h)² + k, donde (h, k) es el vértice de la parábola y a determina la apertura y dirección de la curva.\n",
        "\n",
        "La hipérbola ocurre cuando el plano de corte atraviesa ambas hojas del cono. Es una curva abierta con dos ramas simétricas. Tiene dos ejes: el eje transverso (2a) y el eje conjugado (2b). Su ecuación general es ((x - h)²/a²) - ((y - k)²/b²) = 1, donde (h, k) es el centro de la hipérbola y a y b determinan la forma y la orientación de la curva.\n",
        "\n",
        "**¿Cómo se diferenciar los tipos de cónicas?**\n",
        "\n",
        "Si el discriminmante es igual a cero, entonces la cónica es una circunferencia. Si el discriminante es mayor que cero, etonces la cónica es una elipse si A y C tienen el mismo signo, o una hipérbola si tienen signos opuestos. Si el discriminante es menor que cero, entonces la cónica es una parábola.\n",
        "\n",
        "##**Ejercicios de Cónicas**\n",
        "\n",
        "Supongamos que un reflector parabólico tiene un foco en (2, 3) y una directriz dada por la ecuación y = -1. Encuentre la ecuación del reflector parabólico.\n",
        "\n",
        "Para completar este ejercicio, puede utilizar los siguientes pasos:\n",
        "\n",
        "Recuerda que la definición de una parábola implica un foco y una directriz. Estos son puntos fijos y una recta tal que la parábola es el conjunto de todos los puntos que equidistan del foco y la directriz.\n",
        "Escribe el foco y la directriz dados como (h, k) = (2, 3) y y = -1.\n",
        "Usa la fórmula de la distancia para escribir la ecuación de la parábola, que involucra la distancia d entre un punto (x, y) en la parábola y la directriz. La distancia entre (x, y) y el foco (2, 3) también debe ser igual a d.\n",
        "Simplifica la ecuación para obtener la forma estándar de una parábola en términos de x e y.\n",
        "Aquí hay un código de inicio para ayudarlo a comenzar:\n"
      ],
      "metadata": {
        "id": "EOv6j0AFgqpL"
      }
    },
    {
      "cell_type": "code",
      "source": [
        "import numpy as np\n",
        "import matplotlib.pyplot as plt\n",
        "\n",
        "# Generar datos para la parábola\n",
        "x = np.linspace(-10, 10, 100)  # Valores de x en el rango [-10, 10]\n",
        "y = x**2  # Ecuación de la parábola: y = x^2\n",
        "\n",
        "# Trazar la parábola\n",
        "plt.plot(x, y)\n",
        "plt.xlabel('x')\n",
        "plt.ylabel('y')\n",
        "plt.title('Parábola')\n",
        "plt.grid(True)\n",
        "plt.show()\n",
        "\n"
      ],
      "metadata": {
        "colab": {
          "base_uri": "https://localhost:8080/",
          "height": 472
        },
        "id": "3oLONx4ghMRW",
        "outputId": "85ba025a-8d9f-4cc3-9b1e-dd15816928e1"
      },
      "execution_count": 19,
      "outputs": [
        {
          "output_type": "display_data",
          "data": {
            "text/plain": [
              "<Figure size 640x480 with 1 Axes>"
            ],
            "image/png": "[encoded data removed]"
          },
          "metadata": {}
        }
      ]
    },
    {
      "cell_type": "code",
      "source": [],
      "metadata": {
        "id": "bqK8NAFGBTBM"
      },
      "execution_count": null,
      "outputs": []
    },
    {
      "cell_type": "code",
      "source": [
        "import numpy as np\n",
        "import matplotlib.pyplot as plt\n",
        "\n",
        "# Parámetros de la elipse\n",
        "a = 3  # Semieje mayor\n",
        "b = 2  # Semieje menor\n",
        "\n",
        "# Ángulos para generar puntos en la elipse\n",
        "theta = np.linspace(0, 2*np.pi, 100)\n",
        "\n",
        "# Coordenadas de los puntos en la elipse\n",
        "x = a * np.cos(theta)\n",
        "y = b * np.sin(theta)\n",
        "\n",
        "# Trazar la elipse\n",
        "plt.plot(x, y)\n",
        "plt.xlabel('x')\n",
        "plt.ylabel('y')\n",
        "plt.title('Elipse')\n",
        "plt.axis('equal')  # Asegurar que los ejes tengan la misma escala\n",
        "plt.grid(True)\n",
        "plt.show()\n"
      ],
      "metadata": {
        "colab": {
          "base_uri": "https://localhost:8080/",
          "height": 472
        },
        "id": "ysXvoR-whPsV",
        "outputId": "ee902a42-dd2e-4bdf-c7d9-a624b0c21e97"
      },
      "execution_count": 21,
      "outputs": [
        {
          "output_type": "display_data",
          "data": {
            "text/plain": [
              "<Figure size 640x480 with 1 Axes>"
            ],
            "image/png": "[encoded data removed]"
          },
          "metadata": {}
        }
      ]
    },
    {
      "cell_type": "code",
      "source": [
        "import numpy as np\n",
        "import matplotlib.pyplot as plt\n",
        "# Definir los parámetros de la hipérbola\n",
        "a = 2 # Semieje mayor\n",
        "b = 1 # Semieje menor\n",
        "# Generar valores para el eje x\n",
        "x = np.linspace(-10, 10, 500)\n",
        "# Calcular los valores correspondientes en el eje y\n",
        "y1 = np.sqrt((x * 2 / a * 2) - 1) * b\n",
        "y2 = -np.sqrt((x * 2 / a * 2) - 1) * b\n",
        "# Graficar la hipérbola\n",
        "plt.plot(x, y1, label='y = sqrt((x^2 / a^2) - 1) * b')\n",
        "plt.plot(x, y2, label='y = -sqrt((x^2 / a^2) - 1) * b')\n",
        "plt.xlabel('x')\n",
        "plt.ylabel('y')\n",
        "plt.title('Hipérbola')\n",
        "plt.legend()\n",
        "plt.grid(True)\n",
        "plt.axis('equal')\n",
        "plt.show()\n",
        "\n"
      ],
      "metadata": {
        "colab": {
          "base_uri": "https://localhost:8080/",
          "height": 541
        },
        "id": "ZUAzpf7nBiup",
        "outputId": "1e39c346-9988-41f0-feb8-54669d50edd5"
      },
      "execution_count": 25,
      "outputs": [
        {
          "output_type": "stream",
          "name": "stderr",
          "text": [
            "<ipython-input-25-a6be139aff1b>:9: RuntimeWarning: invalid value encountered in sqrt\n",
            "  y1 = np.sqrt((x * 2 / a * 2) - 1) * b\n",
            "<ipython-input-25-a6be139aff1b>:10: RuntimeWarning: invalid value encountered in sqrt\n",
            "  y2 = -np.sqrt((x * 2 / a * 2) - 1) * b\n"
          ]
        },
        {
          "output_type": "display_data",
          "data": {
            "text/plain": [
              "<Figure size 640x480 with 1 Axes>"
            ],
            "image/png": "[encoded data removed]"
          },
          "metadata": {}
        }
      ]
    },
    {
      "cell_type": "markdown",
      "source": [
        "#**TRANSFORMACIONES LINEALES**"
      ],
      "metadata": {
        "id": "-FNmGgTfhU0c"
      }
    },
    {
      "cell_type": "markdown",
      "source": [
        "Son operaciones que se aplican a vectores. Estas\n",
        "transformaciones pueden modificar las propiedades geométricas y algebraicas de los vectores,\n",
        "como su escala, translación o rotación. Aquí una descripción de cada una de estas\n",
        "transformaciones lineales:\n",
        "\n",
        "####**Escala (o dilatación)** \n",
        "La escala es una transformación lineal que modica la longitud de un\n",
        "vector. Puede aumentar o disminuir su tamaño en función de un factor de escala. \n",
        "\n",
        "Si el factor de\n",
        "escala es mayor que 1, el vector se expande, mientras que si es menor que 1, el vector se\n",
        "contrae.\n",
        "\n",
        "En general, la escala se puede realizar multiplicando cada componente del vector por el\n",
        "factor de escala correspondiente.\n",
        "\n",
        "####**Translación:**\n",
        "La translación es una transformación lineal que desplaza un vector en una\n",
        "dirección especíca. Se suma un vector de translación constante a cada componente del vector\n",
        "original. El vector de translación dene el desplazamiento en cada dirección.\n",
        "\n",
        "Por ejemplo, si se desea trasladar un vector en el plano xy, se sumaría un vector de\n",
        "translación (a, b) a las coordenadas (x, y) del vector original.\n",
        "\n",
        "####**Rotación:** \n",
        "La rotación es una transformación lineal que gira un vector alrededor de un punto jo\n",
        "en un cierto ángulo. En dos dimensiones, una rotación se puede describir mediante una matriz\n",
        "de rotación. El ángulo de rotación determina la cantidad de giro.\n",
        "\n",
        "Por ejemplo, en el plano xy, una rotación en sentido antihorario se puede lograr mediante\n",
        "la multiplicación del vector original (x, y) por una matriz de rotación adecuada.\n",
        "\n",
        "Es importante destacar que todas estas transformaciones lineales son lineales porque preservan\n",
        "la estructura lineal de los vectores.*\n",
        "\n",
        "Esto signica que cumplen con dos propiedades:\n",
        "Preservación de la suma y preservación de la multiplicación por un escalar. En otras\n",
        "palabras, la suma de dos vectores transformados es igual a la transformación de la suma\n",
        "de los vectores originales, y el producto de un vector transformado por un escalar es igual\n",
        "a la transformación del producto del vector original por ese escalar."
      ],
      "metadata": {
        "id": "z6dAH9b_CRaN"
      }
    },
    {
      "cell_type": "code",
      "source": [
        "import numpy as np\n",
        "\n",
        "# Vector original\n",
        "vector = np.array([1, 2, 3])\n",
        "\n",
        "# Factor de escala\n",
        "factor_escala = 2\n",
        "\n",
        "# Transformación de escala\n",
        "vector_escala = vector * factor_escala\n",
        "\n",
        "print(\"Vector original:\", vector)\n",
        "print(\"Vector escalado:\", vector_escala)\n"
      ],
      "metadata": {
        "colab": {
          "base_uri": "https://localhost:8080/"
        },
        "id": "ZIzAMz8iC3hd",
        "outputId": "aaed4d0e-dbd8-4547-e5cf-9c1a4d88b5ec"
      },
      "execution_count": 27,
      "outputs": [
        {
          "output_type": "stream",
          "name": "stdout",
          "text": [
            "Vector original: [1 2 3]\n",
            "Vector escalado: [2 4 6]\n"
          ]
        }
      ]
    },
    {
      "cell_type": "code",
      "source": [
        "import numpy as np\n",
        "\n",
        "# Vector original\n",
        "vector = np.array([1, 2, 3])\n",
        "\n",
        "# Vector de translación\n",
        "vector_translacion = np.array([2, 3, 1])\n",
        "\n",
        "# Transformación de translación\n",
        "vector_transladado = vector + vector_translacion\n",
        "\n",
        "print(\"Vector original:\", vector)\n",
        "print(\"Vector trasladado:\", vector_transladado)\n"
      ],
      "metadata": {
        "colab": {
          "base_uri": "https://localhost:8080/"
        },
        "id": "RLJDZAIzDhi5",
        "outputId": "cbad6fc9-671a-41bd-f5b1-ce174cc3e0ae"
      },
      "execution_count": 28,
      "outputs": [
        {
          "output_type": "stream",
          "name": "stdout",
          "text": [
            "Vector original: [1 2 3]\n",
            "Vector trasladado: [3 5 4]\n"
          ]
        }
      ]
    },
    {
      "cell_type": "code",
      "source": [
        "import numpy as np\n",
        "# Vector original en el plano xy\n",
        "vector = np.array([1, 0])\n",
        "# Ángulo de rotación en radianes\n",
        "angulo = np.pi / 4 # Rotación de 45 grados en sentido antihorario\n",
        "# Matriz de rotación en el plano xy\n",
        "matriz_rotacion = np.array([[np.cos(angulo), -np.sin(angulo)],\n",
        "[np.sin(angulo), np.cos(angulo)]])\n",
        "# Transformación de rotación\n",
        "vector_rotado = np.dot(matriz_rotacion, vector)\n",
        "print(\"Vector original:\", vector)\n",
        "print(\"Vector rotado:\", vector_rotado)"
      ],
      "metadata": {
        "colab": {
          "base_uri": "https://localhost:8080/"
        },
        "id": "r_2LHPn4DnqY",
        "outputId": "84d3062c-a9b5-4619-9db6-2c9ac88a35ba"
      },
      "execution_count": 29,
      "outputs": [
        {
          "output_type": "stream",
          "name": "stdout",
          "text": [
            "Vector original: [1 0]\n",
            "Vector rotado: [0.70710678 0.70710678]\n"
          ]
        }
      ]
    },
    {
      "cell_type": "markdown",
      "source": [
        "#**VECTOR PROPIO**\n"
      ],
      "metadata": {
        "id": "xggXKs_jDtK8"
      }
    },
    {
      "cell_type": "markdown",
      "source": [
        "Los vectores propios son de gran importancia en la teoría de transformaciones lineales porque\n",
        "capturan direcciones especiales en las que una transformación lineal actúa simplemente por\n",
        "estiramiento o contracción. Son ampliamente utilizados en diversas áreas, como física,\n",
        "informática, estadísticas y ciencias de la ingeniería.\n",
        "Aquí tienes algunos conceptos clave sobre los vectores propios:\n",
        "\n",
        "**Definición:** Dada una transformación lineal T, un vector no nulo v es un vector propio si\n",
        "existe un escalar λ tal que T(v) = λv.\n",
        "####**Valor propio**\n",
        "El escalar λ en la denición anterior se conoce como valor propio o\n",
        "autovalor asociado al vector propio v.\n",
        "Espacio propio: El conjunto de todos los vectores propios correspondientes a un mismo\n",
        "valor propio λ forma un subespacio vectorial llamado espacio propio asociado a λ.\n",
        "####**Diagonalización** \n",
        "Una matriz cuadrada A se dice diagonalizable si existe una matriz\n",
        "inversible P tal que P^(-1)AP es una matriz diagonal. En este caso, las columnas de P son\n",
        "los vectores propios de A, y los elementos diagonales de P^(-1)AP son los valores propios\n",
        "correspondientes.\n",
        "####**Multiplicidad algebraica y geométrica**\n",
        "Un valor propio λ tiene una multiplicidad\n",
        "algebraica igual al número de veces que aparece como raíz del polinomio característico\n",
        "de la matriz. La multiplicidad geométrica de λ es la dimensión del espacio propio\n",
        "asociado a ese valor propio.\n",
        "####**Ortogonalidad** \n",
        "Si dos vectores propios corresponden a diferentes valores propios,\n",
        "entonces son ortogonales entre sí. Esto signica que su producto escalar es cero.\n",
        "\n",
        " 0 s se ejecutó 02:03\n",
        "Productos pagados de Colab - Cancela los contratos aquí\n",
        "####**Matriz diagonalizable** \n",
        "Una matriz cuadrada A es diagonalizable si y solo si tiene un\n",
        "conjunto completo de vectores propios linealmente independientes.\n",
        "####**Aplicaciones** \n",
        "Los vectores propios y los valores propios tienen numerosas aplicaciones,\n",
        "como la reducción de dimensionalidad, la compresión de datos, la resolución de sistemas\n",
        "de ecuaciones diferenciales lineales, el análisis de redes y la clasicación de datos."
      ],
      "metadata": {
        "id": "qh8jzrIQDwmE"
      }
    },
    {
      "cell_type": "code",
      "source": [
        "import numpy as np\n",
        "# Ejemplo 1: Calcular vectores propios y valores propios de una matriz\n",
        "A = np.array([[2, -1], [4, 3]])\n",
        "# Usar la función eig de NumPy para calcular los valores propios (eigenvalues) y vectores\n",
        "eigenvalues, eigenvectors = np.linalg.eig(A)\n",
        "print(\"Valores propios:\")\n",
        "print(eigenvalues)\n",
        "print(\"Vectores propios:\")\n",
        "print(eigenvectors)\n",
        "# Ejemplo 2: Calcular vectores propios y valores propios de una matriz diagonalizable\n",
        "B = np.array([[3, 0], [0, -2]])\n",
        "eigenvalues, eigenvectors = np.linalg.eig(B)\n",
        "print(\"Valores propios:\")\n",
        "print(eigenvalues)\n",
        "print(\"Vectores propios:\")\n",
        "print(eigenvectors)"
      ],
      "metadata": {
        "colab": {
          "base_uri": "https://localhost:8080/"
        },
        "id": "3aIocwovEP9j",
        "outputId": "50a7d535-03dd-4181-c5de-562d5f70b1ec"
      },
      "execution_count": 30,
      "outputs": [
        {
          "output_type": "stream",
          "name": "stdout",
          "text": [
            "Valores propios:\n",
            "[2.5+1.93649167j 2.5-1.93649167j]\n",
            "Vectores propios:\n",
            "[[-0.1118034 +0.4330127j -0.1118034 -0.4330127j]\n",
            " [ 0.89442719+0.j         0.89442719-0.j       ]]\n",
            "Valores propios:\n",
            "[ 3. -2.]\n",
            "Vectores propios:\n",
            "[[1. 0.]\n",
            " [0. 1.]]\n"
          ]
        }
      ]
    }
  ]
}